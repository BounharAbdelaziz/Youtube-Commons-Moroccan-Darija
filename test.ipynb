{
 "cells": [
  {
   "cell_type": "code",
   "execution_count": null,
   "metadata": {},
   "outputs": [],
   "source": [
    "import numpy as np\n",
    "import scipy.io.wavfile as wav\n",
    "from transformers import pipeline"
   ]
  },
  {
   "cell_type": "code",
   "execution_count": null,
   "metadata": {},
   "outputs": [],
   "source": [
    "import numpy as np\n",
    "from transformers import pipeline\n",
    "from io import BytesIO\n",
    "import scipy.io.wavfile as wav\n",
    "\n",
    "# Set parameters for recording\n",
    "SAMPLE_RATE = 16000  # Sample rate for recording\n",
    "DURATION = 5  # Duration in seconds\n",
    "OUTPUT_FILE = \"recorded_audio.wav\"\n",
    "MODEL = \"adiren7/whisper_darija\"\n",
    "MODEL = \"openai/whisper-small\"\n",
    "\n",
    "# Record audio using Google Colab's audio recording feature\n",
    "def record_audio():\n",
    "    from IPython.display import Audio\n",
    "    import time\n",
    "    import io\n",
    "\n",
    "    print(f\"Recording for {DURATION} seconds...\")\n",
    "    audio = Audio(filename=OUTPUT_FILE, rate=SAMPLE_RATE)\n",
    "    audio.record(duration=DURATION)\n",
    "    print(\"Recording finished.\")\n",
    "    return OUTPUT_FILE\n",
    "\n",
    "# Transcribe the recorded audio\n",
    "def transcribe_audio(filename):\n",
    "    print(\"Loading the model...\")\n",
    "    stt_pipeline = pipeline(\"automatic-speech-recognition\", model=MODEL)\n",
    "    \n",
    "    print(\"Transcribing audio...\")\n",
    "    with open(filename, \"rb\") as audio_file:\n",
    "        transcription = stt_pipeline(audio_file.read())\n",
    "    \n",
    "    print(\"Transcription:\")\n",
    "    print(transcription['text'])\n",
    "\n",
    "# Record and process the audio\n",
    "recorded_file = record_audio()"
   ]
  },
  {
   "cell_type": "code",
   "execution_count": null,
   "metadata": {},
   "outputs": [],
   "source": [
    "# Transcribe the recorded audio\n",
    "transcribe_audio(recorded_file)"
   ]
  },
  {
   "cell_type": "code",
   "execution_count": null,
   "metadata": {},
   "outputs": [],
   "source": [
    "# Record audio\n",
    "record_audio()"
   ]
  }
 ],
 "metadata": {
  "kernelspec": {
   "display_name": "Python 3",
   "language": "python",
   "name": "python3"
  },
  "language_info": {
   "codemirror_mode": {
    "name": "ipython",
    "version": 3
   },
   "file_extension": ".py",
   "mimetype": "text/x-python",
   "name": "python",
   "nbconvert_exporter": "python",
   "pygments_lexer": "ipython3",
   "version": "3.12.3"
  }
 },
 "nbformat": 4,
 "nbformat_minor": 2
}
